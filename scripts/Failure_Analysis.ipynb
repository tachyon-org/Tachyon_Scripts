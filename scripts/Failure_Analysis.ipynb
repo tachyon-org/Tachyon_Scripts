{
 "cells": [
  {
   "cell_type": "code",
   "execution_count": 132,
   "id": "347e85d5-e750-4653-8b96-ac2adb6f7f50",
   "metadata": {},
   "outputs": [
    {
     "name": "stdout",
     "output_type": "stream",
     "text": [
      "Requirement already satisfied: pandas in /Library/Frameworks/Python.framework/Versions/3.12/lib/python3.12/site-packages (2.2.2)\n",
      "Requirement already satisfied: numpy>=1.26.0 in /Library/Frameworks/Python.framework/Versions/3.12/lib/python3.12/site-packages (from pandas) (1.26.3)\n",
      "Requirement already satisfied: python-dateutil>=2.8.2 in /Library/Frameworks/Python.framework/Versions/3.12/lib/python3.12/site-packages (from pandas) (2.8.2)\n",
      "Requirement already satisfied: pytz>=2020.1 in /Library/Frameworks/Python.framework/Versions/3.12/lib/python3.12/site-packages (from pandas) (2024.1)\n",
      "Requirement already satisfied: tzdata>=2022.7 in /Library/Frameworks/Python.framework/Versions/3.12/lib/python3.12/site-packages (from pandas) (2024.1)\n",
      "Requirement already satisfied: six>=1.5 in /Library/Frameworks/Python.framework/Versions/3.12/lib/python3.12/site-packages (from python-dateutil>=2.8.2->pandas) (1.16.0)\n",
      "Requirement already satisfied: scikit-learn in /Library/Frameworks/Python.framework/Versions/3.12/lib/python3.12/site-packages (1.4.1.post1)\n",
      "Requirement already satisfied: numpy<2.0,>=1.19.5 in /Library/Frameworks/Python.framework/Versions/3.12/lib/python3.12/site-packages (from scikit-learn) (1.26.3)\n",
      "Requirement already satisfied: scipy>=1.6.0 in /Library/Frameworks/Python.framework/Versions/3.12/lib/python3.12/site-packages (from scikit-learn) (1.12.0)\n",
      "Requirement already satisfied: joblib>=1.2.0 in /Library/Frameworks/Python.framework/Versions/3.12/lib/python3.12/site-packages (from scikit-learn) (1.3.2)\n",
      "Requirement already satisfied: threadpoolctl>=2.0.0 in /Library/Frameworks/Python.framework/Versions/3.12/lib/python3.12/site-packages (from scikit-learn) (3.3.0)\n",
      "Collecting texttable\n",
      "  Downloading texttable-1.7.0-py2.py3-none-any.whl.metadata (9.8 kB)\n",
      "Downloading texttable-1.7.0-py2.py3-none-any.whl (10 kB)\n",
      "Installing collected packages: texttable\n",
      "Successfully installed texttable-1.7.0\n"
     ]
    }
   ],
   "source": [
    "import sys\n",
    "import math\n",
    "!{sys.executable} -m pip install pandas\n",
    "!{sys.executable} -m pip install scikit-learn\n",
    "!{sys.executable} -m pip install texttable"
   ]
  },
  {
   "cell_type": "code",
   "execution_count": 133,
   "id": "bd045a52-040c-4099-b495-e37b2878be42",
   "metadata": {},
   "outputs": [],
   "source": [
    "import pandas as pd\n",
    "from sklearn import linear_model\n",
    "from sklearn.model_selection import train_test_split\n",
    "from sklearn.metrics import classification_report\n",
    "import matplotlib.pyplot as plt\n",
    "from texttable import Texttable\n",
    "\n",
    "df = pd.read_csv('/Users/sanjaychari/Documents/RPI/Tachyon_Research/ganglia_database/rrds/Manager/novadaq-far-datadisk-02.fnal.gov/novadaq-far-datadisk-02.fnal.gov.csv')\n",
    "df.fillna(0, inplace=True)\n",
    "\n",
    "zero_cols = df.columns[(df == 0).all()]\n",
    "df.drop(labels=zero_cols, axis=1, inplace=True)\n",
    "\n",
    "df_train = df[:int(0.8*len(df))]\n",
    "df_test = df[int(0.8*len(df)):]"
   ]
  },
  {
   "cell_type": "code",
   "execution_count": 117,
   "id": "05a63cc0-20c6-4432-aeda-0f906a16a555",
   "metadata": {},
   "outputs": [],
   "source": [
    "X = df.drop(columns=['Epoch Timestamp', 'FTS failed files', 'FTS rawA failed files', 'FTS rawB failed files'])\n",
    "y = df['FTS failed files'].replace(26.0, 1)\n",
    "\n",
    "X_train, X_test, y_train, y_test = train_test_split(\n",
    "    X, y, test_size=0.3, random_state=42)"
   ]
  },
  {
   "cell_type": "code",
   "execution_count": 118,
   "id": "3bf23a7a-6803-4853-897d-0e5c01705013",
   "metadata": {},
   "outputs": [],
   "source": [
    "clf = linear_model.SGDClassifier()\n",
    "clf.fit(X_train, y_train)\n",
    "y_pred = clf.predict(X_test)"
   ]
  },
  {
   "cell_type": "code",
   "execution_count": 119,
   "id": "0eac1d19-05a2-4652-9320-8b9d5a6816f8",
   "metadata": {},
   "outputs": [
    {
     "name": "stdout",
     "output_type": "stream",
     "text": [
      "              precision    recall  f1-score   support\n",
      "\n",
      "         0.0       1.00      0.92      0.96    110826\n",
      "         1.0       0.86      1.00      0.92     55063\n",
      "\n",
      "    accuracy                           0.95    165889\n",
      "   macro avg       0.93      0.96      0.94    165889\n",
      "weighted avg       0.95      0.95      0.95    165889\n",
      "\n"
     ]
    }
   ],
   "source": [
    "print(classification_report(y_test, y_pred))"
   ]
  },
  {
   "cell_type": "code",
   "execution_count": 129,
   "id": "8f22f3e5-f35d-4f7d-8a5d-3856c424f010",
   "metadata": {},
   "outputs": [
    {
     "name": "stdout",
     "output_type": "stream",
     "text": [
      "[['boottime', -5338859.772522029], ['swap_total', -126831.52905567957], ['swap_free', -126829.18262772872], ['mem_total', -121776.96907179453], ['mem_free', -55392.12463517025], ['DL DataBlock Size Rate', -38198.002363399704], ['DL DataAtom Size Rate', -38143.99024830519], ['mem_cached', -31752.86653436711], ['mem_buffers', -13118.613039720185], ['DL DataAtom Size', -152.61669144066911]]\n"
     ]
    }
   ],
   "source": [
    "orig_coef_dic = {}\n",
    "abs_coef_dic = {}\n",
    "\n",
    "for i in range(len(X.columns)):\n",
    "    orig_coef_dic[X.columns[i]] = clf.coef_[0][i]\n",
    "    abs_coef_dic[X.columns[i]] = abs(clf.coef_[0][i])\n",
    "\n",
    "most_significant_coefs = sorted(abs_coef_dic.items(), key=lambda item: -item[1])[:10]\n",
    "signed_most_sig_coefs = []\n",
    "\n",
    "for ele in most_significant_coefs:\n",
    "    signed_most_sig_coefs.append([ele[0], orig_coef_dic[ele[0]]])"
   ]
  },
  {
   "cell_type": "code",
   "execution_count": 135,
   "id": "b9b09870-bcc9-4c92-bf53-4a6c70447d8c",
   "metadata": {},
   "outputs": [
    {
     "name": "stdout",
     "output_type": "stream",
     "text": [
      "Most Influential Fields on FTS Failed Files\n",
      "--------------------------------------------------\n",
      "+------------------------+-----------------+\n",
      "|         Field          | SGD Coefficient |\n",
      "+========================+=================+\n",
      "| boottime               | -5338859.773    |\n",
      "+------------------------+-----------------+\n",
      "| swap_total             | -126831.529     |\n",
      "+------------------------+-----------------+\n",
      "| swap_free              | -126829.183     |\n",
      "+------------------------+-----------------+\n",
      "| mem_total              | -121776.969     |\n",
      "+------------------------+-----------------+\n",
      "| mem_free               | -55392.125      |\n",
      "+------------------------+-----------------+\n",
      "| DL DataBlock Size Rate | -38198.002      |\n",
      "+------------------------+-----------------+\n",
      "| DL DataAtom Size Rate  | -38143.990      |\n",
      "+------------------------+-----------------+\n",
      "| mem_cached             | -31752.867      |\n",
      "+------------------------+-----------------+\n",
      "| mem_buffers            | -13118.613      |\n",
      "+------------------------+-----------------+\n",
      "| DL DataAtom Size       | -152.617        |\n",
      "+------------------------+-----------------+\n"
     ]
    }
   ],
   "source": [
    "print(\"Most Influential Fields on FTS Failed Files\")\n",
    "print(\"-\"*50)\n",
    "table = Texttable()\n",
    "signed_most_sig_coefs.insert(0, ['Field', 'SGD Coefficient'])\n",
    "table.add_rows(signed_most_sig_coefs)\n",
    "print(table.draw())"
   ]
  },
  {
   "cell_type": "code",
   "execution_count": null,
   "id": "46e27000-dd3c-4ef9-8693-a601f69ba89e",
   "metadata": {},
   "outputs": [],
   "source": []
  },
  {
   "cell_type": "code",
   "execution_count": null,
   "id": "c0aa5134-286a-4ebd-b364-262e15029bd5",
   "metadata": {},
   "outputs": [],
   "source": []
  },
  {
   "cell_type": "code",
   "execution_count": null,
   "id": "57b17a69-36a5-44c8-b36d-f93f21c3cbb4",
   "metadata": {},
   "outputs": [],
   "source": []
  }
 ],
 "metadata": {
  "kernelspec": {
   "display_name": "Python 3 (ipykernel)",
   "language": "python",
   "name": "python3"
  },
  "language_info": {
   "codemirror_mode": {
    "name": "ipython",
    "version": 3
   },
   "file_extension": ".py",
   "mimetype": "text/x-python",
   "name": "python",
   "nbconvert_exporter": "python",
   "pygments_lexer": "ipython3",
   "version": "3.12.1"
  }
 },
 "nbformat": 4,
 "nbformat_minor": 5
}
