{
 "cells": [
  {
   "cell_type": "code",
   "execution_count": 104,
   "id": "347e85d5-e750-4653-8b96-ac2adb6f7f50",
   "metadata": {},
   "outputs": [
    {
     "name": "stdout",
     "output_type": "stream",
     "text": [
      "Requirement already satisfied: pandas in ./lib/python3.12/site-packages (2.2.2)\n",
      "Requirement already satisfied: numpy>=1.26.0 in ./lib/python3.12/site-packages (from pandas) (1.26.4)\n",
      "Requirement already satisfied: python-dateutil>=2.8.2 in ./lib/python3.12/site-packages (from pandas) (2.9.0.post0)\n",
      "Requirement already satisfied: pytz>=2020.1 in ./lib/python3.12/site-packages (from pandas) (2024.1)\n",
      "Requirement already satisfied: tzdata>=2022.7 in ./lib/python3.12/site-packages (from pandas) (2024.1)\n",
      "Requirement already satisfied: six>=1.5 in ./lib/python3.12/site-packages (from python-dateutil>=2.8.2->pandas) (1.16.0)\n",
      "Requirement already satisfied: scikit-learn in ./lib/python3.12/site-packages (1.5.0)\n",
      "Requirement already satisfied: numpy>=1.19.5 in ./lib/python3.12/site-packages (from scikit-learn) (1.26.4)\n",
      "Requirement already satisfied: scipy>=1.6.0 in ./lib/python3.12/site-packages (from scikit-learn) (1.13.1)\n",
      "Requirement already satisfied: joblib>=1.2.0 in ./lib/python3.12/site-packages (from scikit-learn) (1.4.2)\n",
      "Requirement already satisfied: threadpoolctl>=3.1.0 in ./lib/python3.12/site-packages (from scikit-learn) (3.5.0)\n",
      "Requirement already satisfied: texttable in ./lib/python3.12/site-packages (1.7.0)\n",
      "Requirement already satisfied: matplotlib in ./lib/python3.12/site-packages (3.9.0)\n",
      "Requirement already satisfied: contourpy>=1.0.1 in ./lib/python3.12/site-packages (from matplotlib) (1.2.1)\n",
      "Requirement already satisfied: cycler>=0.10 in ./lib/python3.12/site-packages (from matplotlib) (0.12.1)\n",
      "Requirement already satisfied: fonttools>=4.22.0 in ./lib/python3.12/site-packages (from matplotlib) (4.53.0)\n",
      "Requirement already satisfied: kiwisolver>=1.3.1 in ./lib/python3.12/site-packages (from matplotlib) (1.4.5)\n",
      "Requirement already satisfied: numpy>=1.23 in ./lib/python3.12/site-packages (from matplotlib) (1.26.4)\n",
      "Requirement already satisfied: packaging>=20.0 in ./lib/python3.12/site-packages (from matplotlib) (24.0)\n",
      "Requirement already satisfied: pillow>=8 in ./lib/python3.12/site-packages (from matplotlib) (10.3.0)\n",
      "Requirement already satisfied: pyparsing>=2.3.1 in ./lib/python3.12/site-packages (from matplotlib) (3.1.2)\n",
      "Requirement already satisfied: python-dateutil>=2.7 in ./lib/python3.12/site-packages (from matplotlib) (2.9.0.post0)\n",
      "Requirement already satisfied: six>=1.5 in ./lib/python3.12/site-packages (from python-dateutil>=2.7->matplotlib) (1.16.0)\n"
     ]
    }
   ],
   "source": [
    "import sys\n",
    "import math\n",
    "!{sys.executable} -m pip install pandas\n",
    "!{sys.executable} -m pip install scikit-learn\n",
    "!{sys.executable} -m pip install texttable\n",
    "!{sys.executable} -m pip install matplotlib"
   ]
  },
  {
   "cell_type": "code",
   "execution_count": 127,
   "id": "bd045a52-040c-4099-b495-e37b2878be42",
   "metadata": {},
   "outputs": [],
   "source": [
    "import pandas as pd\n",
    "from sklearn import linear_model\n",
    "from sklearn.model_selection import train_test_split\n",
    "from sklearn.metrics import classification_report, mean_squared_error, r2_score\n",
    "import matplotlib.pyplot as plt\n",
    "from texttable import Texttable\n",
    "\n",
    "df = pd.read_csv('/Users/sanjaychari/Documents/RPI/Tachyon_Research/ganglia_database/rrds/Manager/novadaq-far-datadisk-04.fnal.gov/novadaq-far-datadisk-04.fnal.gov.csv')\n",
    "df.fillna(0, inplace=True)\n",
    "\n",
    "zero_cols = df.columns[(df == 0).all()]\n",
    "df.drop(labels=zero_cols, axis=1, inplace=True)"
   ]
  },
  {
   "cell_type": "code",
   "execution_count": 128,
   "id": "05a63cc0-20c6-4432-aeda-0f906a16a555",
   "metadata": {},
   "outputs": [],
   "source": [
    "X = df.drop(columns=['Epoch Timestamp', 'FTS failed transfers', 'FTS merged-log failed transfers'])\n",
    "y = df['FTS failed transfers']\n",
    "\n",
    "X_train, X_test, y_train, y_test = train_test_split(\n",
    "    X, y, test_size=0.3, random_state=42)"
   ]
  },
  {
   "cell_type": "code",
   "execution_count": 129,
   "id": "3bf23a7a-6803-4853-897d-0e5c01705013",
   "metadata": {},
   "outputs": [
    {
     "name": "stdout",
     "output_type": "stream",
     "text": [
      "Coefficients: \n",
      " [ 1.46921255e-02  8.22851298e-01 -1.13952809e-01  3.54351587e-03\n",
      " -2.30584431e-03  7.85558378e-13  4.48016759e-07 -1.24328311e+01\n",
      "  2.30292347e-03  2.85903700e-01 -1.30415919e-02 -1.09414042e-02\n",
      "  1.30638928e-01 -1.08225462e-01  4.73202001e-04 -6.80332803e-06\n",
      " -5.09706753e-08  2.77074233e-03  5.17399969e-04 -2.06420367e-05\n",
      " -7.38103633e-13 -2.76100313e-05  6.92538341e-01 -4.12957414e-03\n",
      "  2.16119557e-05 -1.44422160e-06  1.19981800e-02 -8.16705965e-03\n",
      "  6.41239999e-13  8.02227135e-05 -2.75487382e-02  1.68435784e-03\n",
      " -9.91077696e-08 -3.05471715e-08 -3.16057972e-03  1.80398085e-08\n",
      "  5.33352664e-07 -5.18325088e-13  3.40854278e-02 -3.63848527e-06\n",
      "  6.52691308e-01  2.94832639e-07  3.41086770e-01 -1.88509983e-01\n",
      " -1.64064095e-03  6.87667748e-05 -4.83769355e-04 -1.43750404e-02\n",
      " -1.97714493e-05]\n",
      "Mean squared error: 3.27\n",
      "Coefficient of determination: 1.00\n"
     ]
    }
   ],
   "source": [
    "def linear_regression(X_train, y_train, X_test, y_test):\n",
    "    # Create linear regression object\n",
    "    regr = linear_model.LinearRegression()\n",
    "    \n",
    "    # Train the model using the training sets\n",
    "    regr.fit(X_train, y_train)\n",
    "    \n",
    "    # Make predictions using the testing set\n",
    "    y_pred = regr.predict(X_test)\n",
    "    \n",
    "    # The coefficients\n",
    "    print(\"Coefficients: \\n\", regr.coef_)\n",
    "    # The mean squared error\n",
    "    print(\"Mean squared error: %.2f\" % mean_squared_error(y_test.to_list(), y_pred))\n",
    "    # The coefficient of determination: 1 is perfect prediction\n",
    "    print(\"Coefficient of determination: %.2f\" % r2_score(y_test.to_list(), y_pred))\n",
    "\n",
    "    return regr\n",
    "\n",
    "regr = linear_regression(X_train, y_train, X_test, y_test)"
   ]
  },
  {
   "cell_type": "code",
   "execution_count": 130,
   "id": "0eac1d19-05a2-4652-9320-8b9d5a6816f8",
   "metadata": {},
   "outputs": [],
   "source": [
    "orig_coef_dic = {}\n",
    "abs_coef_dic = {}\n",
    "\n",
    "for i in range(len(X.columns)):\n",
    "    orig_coef_dic[X.columns[i]] = regr.coef_[i]\n",
    "    abs_coef_dic[X.columns[i]] = abs(regr.coef_[i])\n",
    "\n",
    "most_significant_coefs = sorted(abs_coef_dic.items(), key=lambda item: -item[1])[:10]\n",
    "signed_most_sig_coefs = []\n",
    "\n",
    "for ele in most_significant_coefs:\n",
    "    signed_most_sig_coefs.append([ele[0], orig_coef_dic[ele[0]]])"
   ]
  },
  {
   "cell_type": "code",
   "execution_count": 131,
   "id": "8f22f3e5-f35d-4f7d-8a5d-3856c424f010",
   "metadata": {},
   "outputs": [
    {
     "name": "stdout",
     "output_type": "stream",
     "text": [
      "Most Influential Fields on FTS failed transfers considering other failures\n",
      "---------------------------------------------------------------------------\n",
      "+------------------------------+-------------------------------+\n",
      "|            Field             | Linear Regression Coefficient |\n",
      "+==============================+===============================+\n",
      "| cpu_aidle                    | -12.433                       |\n",
      "+------------------------------+-------------------------------+\n",
      "| FTS merged-log failed files  | 0.823                         |\n",
      "+------------------------------+-------------------------------+\n",
      "| FTS merged-log pending files | 0.693                         |\n",
      "+------------------------------+-------------------------------+\n",
      "| FTS merged-log new files     | 0.653                         |\n",
      "+------------------------------+-------------------------------+\n",
      "| swap_total                   | 0.341                         |\n",
      "+------------------------------+-------------------------------+\n",
      "| part_max_used                | 0.286                         |\n",
      "+------------------------------+-------------------------------+\n",
      "| FTS rawA failed files        | -0.189                        |\n",
      "+------------------------------+-------------------------------+\n",
      "| cpu_nice                     | 0.131                         |\n",
      "+------------------------------+-------------------------------+\n",
      "| mem_total                    | -0.114                        |\n",
      "+------------------------------+-------------------------------+\n",
      "| FTS rawA new files           | -0.108                        |\n",
      "+------------------------------+-------------------------------+\n"
     ]
    }
   ],
   "source": [
    "print(\"Most Influential Fields on FTS failed transfers considering other failures\")\n",
    "print(\"-\"*75)\n",
    "table = Texttable()\n",
    "signed_most_sig_coefs.insert(0, ['Field', 'Linear Regression Coefficient'])\n",
    "table.add_rows(signed_most_sig_coefs)\n",
    "print(table.draw())"
   ]
  },
  {
   "cell_type": "code",
   "execution_count": 132,
   "id": "b9b09870-bcc9-4c92-bf53-4a6c70447d8c",
   "metadata": {},
   "outputs": [],
   "source": [
    "drop_columns = ['Epoch Timestamp']\n",
    "drop_columns.extend([column for column in df.columns if \"failed\" in column])\n",
    "X = df.drop(columns=drop_columns)\n",
    "y = df['FTS failed transfers']\n",
    "\n",
    "X_train, X_test, y_train, y_test = train_test_split(\n",
    "    X, y, test_size=0.3, random_state=42)"
   ]
  },
  {
   "cell_type": "code",
   "execution_count": 133,
   "id": "46e27000-dd3c-4ef9-8693-a601f69ba89e",
   "metadata": {},
   "outputs": [
    {
     "name": "stdout",
     "output_type": "stream",
     "text": [
      "Coefficients: \n",
      " [ 1.25727815e-01  1.52607495e-02  1.24658484e-02  2.77609395e-12\n",
      " -1.43882683e+01  2.68699046e+00 -9.53220560e-03 -1.49691575e-03\n",
      "  6.94776021e-01 -4.53259456e+00 -2.96192070e-03 -3.70918406e-07\n",
      "  1.52971635e+00  7.50239044e-03 -7.79114456e-04 -2.60702833e-12\n",
      " -7.75557578e-05 -4.21982280e-02  1.10217479e-02  5.76790125e-04\n",
      "  4.20696818e-06  1.74837908e-01 -2.86798825e-01  2.26821355e-12\n",
      "  1.66794796e-04 -2.20466289e+00  1.63059708e-03 -2.24218167e-07\n",
      " -6.05613311e-07  3.86173069e-02  2.65639014e-08  1.87968366e-06\n",
      " -1.84649464e-12 -6.72525163e-01 -1.66636523e-05  5.36405672e-01\n",
      "  2.40897125e-06 -1.56752696e+00 -1.45323111e-03 -3.42101805e-02\n",
      "  3.15611055e-03 -1.60111570e-01 -3.38133575e-04]\n",
      "Mean squared error: 26.61\n",
      "Coefficient of determination: 0.96\n"
     ]
    }
   ],
   "source": [
    "regr = linear_regression(X_train, y_train, X_test, y_test)"
   ]
  },
  {
   "cell_type": "code",
   "execution_count": 134,
   "id": "c0aa5134-286a-4ebd-b364-262e15029bd5",
   "metadata": {},
   "outputs": [],
   "source": [
    "orig_coef_dic = {}\n",
    "abs_coef_dic = {}\n",
    "\n",
    "for i in range(len(X.columns)):\n",
    "    orig_coef_dic[X.columns[i]] = regr.coef_[i]\n",
    "    abs_coef_dic[X.columns[i]] = abs(regr.coef_[i])\n",
    "\n",
    "most_significant_coefs = sorted(abs_coef_dic.items(), key=lambda item: -item[1])[:10]\n",
    "signed_most_sig_coefs = []\n",
    "\n",
    "for ele in most_significant_coefs:\n",
    "    signed_most_sig_coefs.append([ele[0], orig_coef_dic[ele[0]]])"
   ]
  },
  {
   "cell_type": "code",
   "execution_count": 135,
   "id": "57b17a69-36a5-44c8-b36d-f93f21c3cbb4",
   "metadata": {},
   "outputs": [
    {
     "name": "stdout",
     "output_type": "stream",
     "text": [
      "Most Influential Fields on FTS failed transfers without considering other failures\n",
      "-------------------------------------------------------------------------------------\n",
      "+--------------------------+-------------------------------+\n",
      "|          Field           | Linear Regression Coefficient |\n",
      "+==========================+===============================+\n",
      "| cpu_aidle                | -14.388                       |\n",
      "+--------------------------+-------------------------------+\n",
      "| FTS rawA new files       | -4.533                        |\n",
      "+--------------------------+-------------------------------+\n",
      "| part_max_used            | 2.687                         |\n",
      "+--------------------------+-------------------------------+\n",
      "| load_fifteen             | -2.205                        |\n",
      "+--------------------------+-------------------------------+\n",
      "| swap_total               | -1.568                        |\n",
      "+--------------------------+-------------------------------+\n",
      "| load_five                | 1.530                         |\n",
      "+--------------------------+-------------------------------+\n",
      "| cpu_nice                 | 0.695                         |\n",
      "+--------------------------+-------------------------------+\n",
      "| load_one                 | -0.673                        |\n",
      "+--------------------------+-------------------------------+\n",
      "| FTS merged-log new files | 0.536                         |\n",
      "+--------------------------+-------------------------------+\n",
      "| cpu_user                 | -0.287                        |\n",
      "+--------------------------+-------------------------------+\n"
     ]
    }
   ],
   "source": [
    "print(\"Most Influential Fields on FTS failed transfers without considering other failures\")\n",
    "print(\"-\"*85)\n",
    "table = Texttable()\n",
    "signed_most_sig_coefs.insert(0, ['Field', 'Linear Regression Coefficient'])\n",
    "table.add_rows(signed_most_sig_coefs)\n",
    "print(table.draw())"
   ]
  },
  {
   "cell_type": "code",
   "execution_count": 136,
   "id": "f2e435b2-503a-4aa5-a210-922dfd21bbc2",
   "metadata": {},
   "outputs": [],
   "source": [
    "X = df[['bytes_in']]\n",
    "y = df['cpu_aidle']\n",
    "\n",
    "X_train, X_test, y_train, y_test = train_test_split(\n",
    "    X, y, test_size=0.3, random_state=42)"
   ]
  },
  {
   "cell_type": "code",
   "execution_count": 137,
   "id": "599307f8-1258-4d6e-9a52-f40e7855bda4",
   "metadata": {},
   "outputs": [
    {
     "name": "stdout",
     "output_type": "stream",
     "text": [
      "Coefficients: \n",
      " [5.77042496e-06]\n",
      "Mean squared error: 226.27\n",
      "Coefficient of determination: 0.88\n"
     ]
    }
   ],
   "source": [
    "regr = linear_regression(X_train, y_train, X_test, y_test)"
   ]
  },
  {
   "cell_type": "code",
   "execution_count": null,
   "id": "87f705ef-3096-4677-8ae4-f363af4d11bf",
   "metadata": {},
   "outputs": [],
   "source": []
  },
  {
   "cell_type": "code",
   "execution_count": null,
   "id": "2c3bdc48-7cd2-4f90-99c3-ce7bd08cbec6",
   "metadata": {},
   "outputs": [],
   "source": []
  }
 ],
 "metadata": {
  "kernelspec": {
   "display_name": "Python 3 (ipykernel)",
   "language": "python",
   "name": "python3"
  },
  "language_info": {
   "codemirror_mode": {
    "name": "ipython",
    "version": 3
   },
   "file_extension": ".py",
   "mimetype": "text/x-python",
   "name": "python",
   "nbconvert_exporter": "python",
   "pygments_lexer": "ipython3",
   "version": "3.12.3"
  }
 },
 "nbformat": 4,
 "nbformat_minor": 5
}
